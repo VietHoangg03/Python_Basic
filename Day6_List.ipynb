{
  "nbformat": 4,
  "nbformat_minor": 0,
  "metadata": {
    "colab": {
      "provenance": [],
      "authorship_tag": "ABX9TyMa71+Wkt3i7bcqJuY8UZgZ",
      "include_colab_link": true
    },
    "kernelspec": {
      "name": "python3",
      "display_name": "Python 3"
    },
    "language_info": {
      "name": "python"
    }
  },
  "cells": [
    {
      "cell_type": "markdown",
      "metadata": {
        "id": "view-in-github",
        "colab_type": "text"
      },
      "source": [
        "<a href=\"https://colab.research.google.com/github/VietHoangg03/Python_Basic/blob/main/Day6_List.ipynb\" target=\"_parent\"><img src=\"https://colab.research.google.com/assets/colab-badge.svg\" alt=\"Open In Colab\"/></a>"
      ]
    },
    {
      "cell_type": "code",
      "execution_count": 12,
      "metadata": {
        "id": "gy9z3DzFCOiO",
        "colab": {
          "base_uri": "https://localhost:8080/"
        },
        "outputId": "2d2a1877-91fe-43ac-b01e-efab6058baa6"
      },
      "outputs": [
        {
          "output_type": "stream",
          "name": "stdout",
          "text": [
            "1\n",
            "2\n",
            "3\n",
            "4\n",
            "5\n"
          ]
        }
      ],
      "source": [
        "# Bài 1:\n",
        "my_list = [1, 2, 3, 4, 5, 6, 7, 8, 9, 10]\n",
        "\n",
        "# Bài 2:\n",
        "for x in range(0, 5): #Lặp từ 0 đến 4\n",
        "  print(my_list[x])"
      ]
    },
    {
      "cell_type": "code",
      "source": [
        "# Bài 3:\n",
        "for i in my_list: #Duyệt từng phần tử i = my_list[i]\n",
        "  if i % 2 != 0:\n",
        "    print(i)"
      ],
      "metadata": {
        "colab": {
          "base_uri": "https://localhost:8080/"
        },
        "id": "iAvaL34KYqzW",
        "outputId": "19fb53f5-4f34-475c-f2ae-da464a851944"
      },
      "execution_count": 17,
      "outputs": [
        {
          "output_type": "stream",
          "name": "stdout",
          "text": [
            "1\n",
            "3\n",
            "5\n",
            "7\n",
            "9\n"
          ]
        }
      ]
    },
    {
      "cell_type": "code",
      "source": [
        "#Khai báo biến tính tổng\n",
        "sum_List = 0\n",
        "for i in my_list:\n",
        "  sum_List += i\n",
        "\n",
        "#In ra tổng cuối cùng\n",
        "print(sum_List)"
      ],
      "metadata": {
        "colab": {
          "base_uri": "https://localhost:8080/"
        },
        "id": "AxIXh4rSZ1S0",
        "outputId": "7ac2f7f7-c951-44d7-df29-fe6de81ac567"
      },
      "execution_count": 21,
      "outputs": [
        {
          "output_type": "stream",
          "name": "stdout",
          "text": [
            "55\n"
          ]
        }
      ]
    },
    {
      "cell_type": "markdown",
      "source": [
        "Tổng hợp kiến thức về List:\n",
        "\n",
        "# Khởi tạo List\n",
        "my_list = [1, 2, 4, a, \"Hello\"]\n",
        "\n",
        "List có thể được khởi tạo rỗng từ một iterable như tuple, string, hoặc một đối tượng có thể duyệt được khác:\n",
        "\n",
        "empty_list = []\n",
        "\n",
        "list_from_tuple = list ((1, 2, 3))\n",
        "\n",
        "list_from_string = list(\"hello\")\n",
        "\n",
        "# Truy cập phần tử.\n",
        "print(my_list[1]) #Output: 1\n",
        "\n",
        "print(my_list[-1]) #Output: \"Hello\"\n",
        "\n",
        "# Cắt list\n",
        "numbers = [1, 2, 3, 4, 5, 6]\n",
        "\n",
        "sub_list = numbers[1:4] # Tra ve [2,3,4]\n",
        "\n",
        "# Thay đổi phần tử list\n",
        "my_list = \"Hi\"\n",
        "\n",
        "1. Thêm phần tử list\n",
        "\n",
        "my_list.append(\"New item\")\n",
        "\n",
        "my_list.insert(2, \"Insert Item\")\n",
        "\n",
        "2. Xoá phần tử\n",
        "\n",
        "del my_list[1]\n",
        "\n",
        "my_list.remove(\"Hello\")\n",
        "\n",
        "popped_item = my_list.pop() #Xoá và trả về phần tử cuối cùng.\n",
        "\n",
        "# Vòng lặp qua list\n",
        "\n",
        "for item in my_list:\n",
        "  \n",
        "  print(item)\n",
        "\n",
        "# Các hàm phổ biến\n",
        "\n",
        "len(my_list) - Trả về số lượng phần tử trong list\n",
        "\n",
        "sorted(list) - Trả về một list mới đã được sắp xếp.\n",
        "\n",
        "sum(list) - Trả về tổng các phần tử trong list\n",
        "\n",
        "max(list), min(list) - Giá trị lớn nhất, nhỏ nhất trong list."
      ],
      "metadata": {
        "id": "tAqIB26VaiVy"
      }
    }
  ]
}