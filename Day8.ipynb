{
  "nbformat": 4,
  "nbformat_minor": 0,
  "metadata": {
    "colab": {
      "provenance": [],
      "authorship_tag": "ABX9TyMkyQcPl/Njrm/fkHMEvPs0",
      "include_colab_link": true
    },
    "kernelspec": {
      "name": "python3",
      "display_name": "Python 3"
    },
    "language_info": {
      "name": "python"
    }
  },
  "cells": [
    {
      "cell_type": "markdown",
      "metadata": {
        "id": "view-in-github",
        "colab_type": "text"
      },
      "source": [
        "<a href=\"https://colab.research.google.com/github/VietHoangg03/Python_Basic/blob/main/Day8.ipynb\" target=\"_parent\"><img src=\"https://colab.research.google.com/assets/colab-badge.svg\" alt=\"Open In Colab\"/></a>"
      ]
    },
    {
      "cell_type": "markdown",
      "source": [
        "# Tuple and List\n",
        "\n",
        "<h2> So sánh đặc điểm </h2>\n",
        "\n",
        "| Đặc Điểm         | Tuple                                               | List                                               |\n",
        "|------------------|-----------------------------------------------------|----------------------------------------------------|\n",
        "| Đặc Điểm Cơ Bản  | Tập hợp các phần tử không thay đổi được, đặt trong cặp ngoặc đơn. | Tập hợp các phần tử có thể thay đổi được, đặt trong cặp ngoặc vuông. |\n",
        "| Thay Đổi Dữ Liệu | Không thể thay đổi (immutable). Không thể thêm, xóa hoặc thay đổi các phần tử. | Có thể thay đổi (mutable). Có thể thêm, xóa và thay đổi các phần tử. |\n",
        "| Sử Dụng          | Thích hợp để bảo vệ dữ liệu.                         | Thích hợp cho các cấu trúc dữ liệu có thể thay đổi.                 |\n",
        "| Hiệu Suất        | Trong một số trường hợp, tuple có thể nhanh hơn      | List có sự linh hoạt cao hơn.                                       |\n",
        "\n"
      ],
      "metadata": {
        "id": "BJalK4Oml32o"
      }
    },
    {
      "cell_type": "code",
      "source": [
        "#Dinh nghia 2 tuple\n",
        "my_tuple1 = (2,3)\n",
        "my_tuple2 = (3,6)\n",
        "\n",
        "# Tong cua hai vector\n",
        "vector_sum = (my_tuple1[0] + my_tuple2[0], my_tuple1[1] + my_tuple2[1])\n",
        "\n",
        "# Tinh tinh vo huong\n",
        "dot = my_tuple1[0]*my_tuple2[0] + my_tuple1[1]*my_tuple2[1]\n",
        "\n",
        "print(vector_sum)\n",
        "print(dot)"
      ],
      "metadata": {
        "colab": {
          "base_uri": "https://localhost:8080/"
        },
        "id": "vnmzAhTWbTH7",
        "outputId": "44131666-015d-4c0b-87a9-dd801e7150b6"
      },
      "execution_count": 3,
      "outputs": [
        {
          "output_type": "stream",
          "name": "stdout",
          "text": [
            "(5, 9)\n",
            "24\n"
          ]
        }
      ]
    },
    {
      "cell_type": "code",
      "source": [
        "# Tinh khoang cach 2 vector\n",
        "import math\n",
        "distance_vector = math.sqrt(pow(my_tuple1[0] - my_tuple2[0], 2) + pow(my_tuple1[1] - my_tuple2[1], 2))\n",
        "print(distance_vector)"
      ],
      "metadata": {
        "colab": {
          "base_uri": "https://localhost:8080/"
        },
        "id": "6BbfjLxdcvZ0",
        "outputId": "9a93c16d-af9d-403e-9b70-a5cfbe7d962f"
      },
      "execution_count": 6,
      "outputs": [
        {
          "output_type": "stream",
          "name": "stdout",
          "text": [
            "3.1622776601683795\n"
          ]
        }
      ]
    },
    {
      "cell_type": "code",
      "source": [
        "# Tìm vị trí có giá trị 3 trong tuple\n",
        "index_of_value1 = my_tuple1.index(3)\n",
        "index_of_value2 = my_tuple2.index(3)\n",
        "\n",
        "index = (index_of_value1, index_of_value2)\n",
        "print(index)"
      ],
      "metadata": {
        "colab": {
          "base_uri": "https://localhost:8080/"
        },
        "id": "EowtqjvRdqOi",
        "outputId": "f5813286-33d4-4c1d-ceaf-0b3b8a24ab78"
      },
      "execution_count": 8,
      "outputs": [
        {
          "output_type": "stream",
          "name": "stdout",
          "text": [
            "(1, 0)\n"
          ]
        }
      ]
    }
  ]
}