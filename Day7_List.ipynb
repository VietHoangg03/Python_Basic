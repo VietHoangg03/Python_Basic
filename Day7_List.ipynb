{
  "nbformat": 4,
  "nbformat_minor": 0,
  "metadata": {
    "colab": {
      "provenance": [],
      "authorship_tag": "ABX9TyOoxArxY1atdAVoe+/eNXFX",
      "include_colab_link": true
    },
    "kernelspec": {
      "name": "python3",
      "display_name": "Python 3"
    },
    "language_info": {
      "name": "python"
    }
  },
  "cells": [
    {
      "cell_type": "markdown",
      "metadata": {
        "id": "view-in-github",
        "colab_type": "text"
      },
      "source": [
        "<a href=\"https://colab.research.google.com/github/VietHoangg03/Python_Basic/blob/main/Day7_List.ipynb\" target=\"_parent\"><img src=\"https://colab.research.google.com/assets/colab-badge.svg\" alt=\"Open In Colab\"/></a>"
      ]
    },
    {
      "cell_type": "code",
      "execution_count": 20,
      "metadata": {
        "id": "K-P-ZOsLd-6r",
        "colab": {
          "base_uri": "https://localhost:8080/"
        },
        "outputId": "e8ed6805-4ba7-419e-b3f2-adf148b9aa91"
      },
      "outputs": [
        {
          "output_type": "stream",
          "name": "stdout",
          "text": [
            "[2, 4, 6, 8, 10, 12]\n"
          ]
        }
      ],
      "source": [
        "#Câu 1:\n",
        "lst_data = []\n",
        "for i in range(1,13):\n",
        "  if i % 2 == 0:\n",
        "    lst_data.append(i)\n",
        "print(lst_data)"
      ]
    },
    {
      "cell_type": "markdown",
      "source": [],
      "metadata": {
        "id": "c_1LdJi0gcfe"
      }
    },
    {
      "cell_type": "code",
      "source": [
        "#Câu 2:\n",
        "l = len(lst_data)\n",
        "for i in range(l - 1, -1, -1): #Duyệt ngược phần tử để tránh giảm phần tử\n",
        "  if lst_data[i] % 3 == 0:\n",
        "      lst_data.pop(i)\n",
        "print(lst_data)"
      ],
      "metadata": {
        "id": "ojp5RxHAfeHW",
        "colab": {
          "base_uri": "https://localhost:8080/"
        },
        "outputId": "1411db28-a0f1-411d-ac1a-ccdf0385b8cf"
      },
      "execution_count": 22,
      "outputs": [
        {
          "output_type": "stream",
          "name": "stdout",
          "text": [
            "[2, 4, 8, 10]\n"
          ]
        }
      ]
    },
    {
      "cell_type": "code",
      "source": [
        "#Câu 3:\n",
        "# Thêm vào cuối phần tử 3 phần tử\n",
        "lst_data.append(1)\n",
        "lst_data.append(2)\n",
        "lst_data.append(3)\n",
        "print(lst_data)\n",
        "\n",
        "# Thêm vào vị trí thứ 3 3 phần tử\n",
        "for i in range(6,9):\n",
        "  lst_data.insert(3, i)\n",
        "print(lst_data)"
      ],
      "metadata": {
        "colab": {
          "base_uri": "https://localhost:8080/"
        },
        "id": "dAQpMlJeiXZC",
        "outputId": "f7813ead-31fd-49c1-c5e1-75fefd191864"
      },
      "execution_count": 23,
      "outputs": [
        {
          "output_type": "stream",
          "name": "stdout",
          "text": [
            "[2, 4, 8, 10, 1, 2, 3]\n",
            "[2, 4, 8, 8, 7, 6, 10, 1, 2, 3]\n"
          ]
        }
      ]
    },
    {
      "cell_type": "code",
      "source": [
        "#Câu 4:\n",
        "for i in range(len(lst_data) -1, -1, -1):\n",
        "  if lst_data[i] % 2 == 0:\n",
        "      lst_data[i] = 0\n",
        "print(lst_data)\n",
        ""
      ],
      "metadata": {
        "colab": {
          "base_uri": "https://localhost:8080/"
        },
        "id": "Hr1S3Sboj036",
        "outputId": "36823e3e-4c44-40e6-9eb0-2fa1b2e46bc5"
      },
      "execution_count": 24,
      "outputs": [
        {
          "output_type": "stream",
          "name": "stdout",
          "text": [
            "[0, 0, 0, 0, 7, 0, 0, 1, 0, 3]\n"
          ]
        }
      ]
    },
    {
      "cell_type": "markdown",
      "source": [
        "# LIST CRUD\n",
        "1. Tạo mới danh sách\n",
        "\n",
        "  list = [1, \"a\", 3] or list(tuple)\n",
        "\n",
        "2. Thêm phần tử vào cuối\n",
        "\n",
        "  list.append(value)\n",
        "\n",
        "3. Thêm phần tử vào vị trí index\n",
        "\n",
        "  list.insert(index_position, value)\n",
        "\n",
        "4. Xoá phần tử đầu tiên của giá trị cần xoá\n",
        "\n",
        "  list.remove(value)\n",
        "\n",
        "5. Xoá theo chỉ số index\n",
        "\n",
        "  list.pop(index_position)\n",
        "\n",
        "6. Cập nhật phần tử\n",
        "\n",
        "  list[index_position] = new_value"
      ],
      "metadata": {
        "id": "46ObCDpHkeFr"
      }
    }
  ]
}